{
  "nbformat": 4,
  "nbformat_minor": 0,
  "metadata": {
    "colab": {
      "provenance": [],
      "authorship_tag": "ABX9TyP4RJ78g10QqUMI2qaxNHfz",
      "include_colab_link": true
    },
    "kernelspec": {
      "name": "python3",
      "display_name": "Python 3"
    },
    "language_info": {
      "name": "python"
    }
  },
  "cells": [
    {
      "cell_type": "markdown",
      "metadata": {
        "id": "view-in-github",
        "colab_type": "text"
      },
      "source": [
        "<a href=\"https://colab.research.google.com/github/alexanderknysh/adcpml/blob/main/adcpml.ipynb\" target=\"_parent\"><img src=\"https://colab.research.google.com/assets/colab-badge.svg\" alt=\"Open In Colab\"/></a>"
      ]
    },
    {
      "cell_type": "markdown",
      "source": [
        "# A machine learning algorithm for near-shore ADCP data processing\n",
        "\n",
        "The following machine learning study aims to select several typical and several anomalous (less than 20-30 in total) loadcases from a detailed ADCP datasets obtained by the Wood Island research site, Maine, USA. Two ADCPs measured water depth, significant wave height and period, as well as north and east projections of current velocity profiles during a half of a month period. More details on the research can be found in [Section 3.2 of this paper](https://github.com/alexanderknysh/adcpml/blob/main/paper.pdf).\n",
        "\n",
        "## Data formatting\n",
        "Before we start processing the ADCP datasets, let's first list the libraries needed for the analysis"
      ],
      "metadata": {
        "id": "kl6qF2_nHALT"
      }
    },
    {
      "cell_type": "code",
      "execution_count": null,
      "metadata": {
        "id": "eWZetvLUZXcy"
      },
      "outputs": [],
      "source": [
        "# required libraries\n",
        "import pandas as pd\n",
        "import numpy  as np\n",
        "import math   as m\n",
        "import matplotlib.pyplot   as     plt\n",
        "from collections           import Counter\n",
        "from sklearn.preprocessing import MinMaxScaler\n",
        "from sklearn.cluster       import KMeans\n",
        "from sklearn               import metrics"
      ]
    },
    {
      "cell_type": "markdown",
      "source": [
        "and define a function that will format velocity profiles to the total fluid energy in the upper ocean layers:"
      ],
      "metadata": {
        "id": "g3L74K0GRfQY"
      }
    },
    {
      "cell_type": "code",
      "source": [
        "# function that format velocity profile datasets\n",
        "def format_profile(data, top): \n",
        "  output = np.empty((0,top))\n",
        "  for i in range(data.shape[0]):\n",
        "    row = data[i]\n",
        "    row = row[np.logical_not(np.isnan(row))]\n",
        "    row = row[-top:]\n",
        "    row = np.dot(row, row)\n",
        "    output = np.append(output, row)\n",
        "  return output"
      ],
      "metadata": {
        "id": "owDavpEqQSCr"
      },
      "execution_count": null,
      "outputs": []
    },
    {
      "cell_type": "markdown",
      "source": [
        "Next, upload the datasets from the [following GitHub repository](https://github.com/alexanderknysh/adcpml):"
      ],
      "metadata": {
        "id": "5gNNDPH-SVhF"
      }
    },
    {
      "cell_type": "code",
      "source": [
        "# upload datasets common for both adcps:  wave properties and water depth\n",
        "adcpdata = pd.read_excel('https://github.com/alexanderknysh/adcpml/blob/main/data_adcp_cm.xlsx?raw=true')\n",
        "\n",
        "# upload velocity dataset: west and east adpc profiles\n",
        "west_vx  = pd.read_excel('https://github.com/alexanderknysh/adcpml/blob/main/west_adcp_vx.xlsx?raw=true')\n",
        "west_vy  = pd.read_excel('https://github.com/alexanderknysh/adcpml/blob/main/west_adcp_vy.xlsx?raw=true')\n",
        "east_vx  = pd.read_excel('https://github.com/alexanderknysh/adcpml/blob/main/east_adcp_vx.xlsx?raw=true')\n",
        "east_vy  = pd.read_excel('https://github.com/alexanderknysh/adcpml/blob/main/east_adcp_vy.xlsx?raw=true')\n",
        "\n",
        "# other important data\n",
        "samples = range(0, adcpdata.shape[0]) # range of field samples\n",
        "alpha   = 13*m.pi/180                 # major axis of tidal ellipse (13 degrees)\n",
        "cells   = 9                           # number of velocity measurement cells"
      ],
      "metadata": {
        "id": "jvNYJ0s0QZ9-"
      },
      "execution_count": null,
      "outputs": []
    },
    {
      "cell_type": "markdown",
      "source": [
        "In ocean engineering, tidal-driven current velocities are usually represented in terms of projections on major and minor axes of a tidal ellipse. In this study, we are mostly interested in the major projections since they have the highest absolute values of current velocities. Both west and east major velocity profiles are converted to the energy values that represent total kinetic energy in the upper water layers (four meters deep). This also reduce number of features we have to deal with in the future."
      ],
      "metadata": {
        "id": "rIVZx04nW42z"
      }
    },
    {
      "cell_type": "code",
      "source": [
        "# project the velocity profiles on the major axis of the tidal ellipse\n",
        "# save as numpy array to ease further formatting\n",
        "# convert profiles to relative energy\n",
        "west_major = west_vx * m.cos(alpha) - west_vy * m.sin(alpha)\n",
        "east_major = east_vx * m.cos(alpha) - east_vy * m.sin(alpha)\n",
        "west_major = west_major.to_numpy()\n",
        "east_major = east_major.to_numpy()\n",
        "adcpdata['WestEnergy'] = format_profile(west_major, cells)\n",
        "adcpdata['EastEnergy'] = format_profile(east_major, cells)\n",
        "\n",
        "# display the resulting dataset\n",
        "display(adcpdata)"
      ],
      "metadata": {
        "colab": {
          "base_uri": "https://localhost:8080/",
          "height": 424
        },
        "id": "mQDODmuAQzvU",
        "outputId": "346f47df-4505-44fe-ae30-8926fb6fb146"
      },
      "execution_count": null,
      "outputs": [
        {
          "output_type": "display_data",
          "data": {
            "text/plain": [
              "                        Date  WaterDepth  WaveHeight  WavePeriod  WestEnergy  \\\n",
              "0    2019-05-16 14:15:00.000       9.475       0.235      11.075    0.174540   \n",
              "1    2019-05-16 14:30:00.000       9.395       0.250      12.150    0.271423   \n",
              "2    2019-05-16 14:44:59.990       9.289       0.240      11.370    0.249177   \n",
              "3    2019-05-16 14:59:59.985       9.160       0.235      11.555    0.355531   \n",
              "4    2019-05-16 15:14:59.980       9.007       0.210      11.640    0.471080   \n",
              "...                      ...         ...         ...         ...         ...   \n",
              "1157 2019-05-28 15:29:54.215       7.275       0.275       8.780    0.025099   \n",
              "1158 2019-05-28 15:44:54.210       7.176       0.260       8.640    0.063899   \n",
              "1159 2019-05-28 15:59:54.205       7.083       0.260       8.660    0.072142   \n",
              "1160 2019-05-28 16:14:54.200       7.040       0.280       8.360    0.097749   \n",
              "1161 2019-05-28 16:29:54.195       6.987       0.275       8.350    0.143435   \n",
              "\n",
              "      EastEnergy  \n",
              "0       0.136834  \n",
              "1       0.177364  \n",
              "2       0.214879  \n",
              "3       0.250243  \n",
              "4       0.328769  \n",
              "...          ...  \n",
              "1157    0.019459  \n",
              "1158    0.029413  \n",
              "1159    0.073600  \n",
              "1160    0.094061  \n",
              "1161    0.082282  \n",
              "\n",
              "[1162 rows x 6 columns]"
            ],
            "text/html": [
              "\n",
              "  <div id=\"df-8635ec4e-7269-4678-81f6-d71488d2df0c\">\n",
              "    <div class=\"colab-df-container\">\n",
              "      <div>\n",
              "<style scoped>\n",
              "    .dataframe tbody tr th:only-of-type {\n",
              "        vertical-align: middle;\n",
              "    }\n",
              "\n",
              "    .dataframe tbody tr th {\n",
              "        vertical-align: top;\n",
              "    }\n",
              "\n",
              "    .dataframe thead th {\n",
              "        text-align: right;\n",
              "    }\n",
              "</style>\n",
              "<table border=\"1\" class=\"dataframe\">\n",
              "  <thead>\n",
              "    <tr style=\"text-align: right;\">\n",
              "      <th></th>\n",
              "      <th>Date</th>\n",
              "      <th>WaterDepth</th>\n",
              "      <th>WaveHeight</th>\n",
              "      <th>WavePeriod</th>\n",
              "      <th>WestEnergy</th>\n",
              "      <th>EastEnergy</th>\n",
              "    </tr>\n",
              "  </thead>\n",
              "  <tbody>\n",
              "    <tr>\n",
              "      <th>0</th>\n",
              "      <td>2019-05-16 14:15:00.000</td>\n",
              "      <td>9.475</td>\n",
              "      <td>0.235</td>\n",
              "      <td>11.075</td>\n",
              "      <td>0.174540</td>\n",
              "      <td>0.136834</td>\n",
              "    </tr>\n",
              "    <tr>\n",
              "      <th>1</th>\n",
              "      <td>2019-05-16 14:30:00.000</td>\n",
              "      <td>9.395</td>\n",
              "      <td>0.250</td>\n",
              "      <td>12.150</td>\n",
              "      <td>0.271423</td>\n",
              "      <td>0.177364</td>\n",
              "    </tr>\n",
              "    <tr>\n",
              "      <th>2</th>\n",
              "      <td>2019-05-16 14:44:59.990</td>\n",
              "      <td>9.289</td>\n",
              "      <td>0.240</td>\n",
              "      <td>11.370</td>\n",
              "      <td>0.249177</td>\n",
              "      <td>0.214879</td>\n",
              "    </tr>\n",
              "    <tr>\n",
              "      <th>3</th>\n",
              "      <td>2019-05-16 14:59:59.985</td>\n",
              "      <td>9.160</td>\n",
              "      <td>0.235</td>\n",
              "      <td>11.555</td>\n",
              "      <td>0.355531</td>\n",
              "      <td>0.250243</td>\n",
              "    </tr>\n",
              "    <tr>\n",
              "      <th>4</th>\n",
              "      <td>2019-05-16 15:14:59.980</td>\n",
              "      <td>9.007</td>\n",
              "      <td>0.210</td>\n",
              "      <td>11.640</td>\n",
              "      <td>0.471080</td>\n",
              "      <td>0.328769</td>\n",
              "    </tr>\n",
              "    <tr>\n",
              "      <th>...</th>\n",
              "      <td>...</td>\n",
              "      <td>...</td>\n",
              "      <td>...</td>\n",
              "      <td>...</td>\n",
              "      <td>...</td>\n",
              "      <td>...</td>\n",
              "    </tr>\n",
              "    <tr>\n",
              "      <th>1157</th>\n",
              "      <td>2019-05-28 15:29:54.215</td>\n",
              "      <td>7.275</td>\n",
              "      <td>0.275</td>\n",
              "      <td>8.780</td>\n",
              "      <td>0.025099</td>\n",
              "      <td>0.019459</td>\n",
              "    </tr>\n",
              "    <tr>\n",
              "      <th>1158</th>\n",
              "      <td>2019-05-28 15:44:54.210</td>\n",
              "      <td>7.176</td>\n",
              "      <td>0.260</td>\n",
              "      <td>8.640</td>\n",
              "      <td>0.063899</td>\n",
              "      <td>0.029413</td>\n",
              "    </tr>\n",
              "    <tr>\n",
              "      <th>1159</th>\n",
              "      <td>2019-05-28 15:59:54.205</td>\n",
              "      <td>7.083</td>\n",
              "      <td>0.260</td>\n",
              "      <td>8.660</td>\n",
              "      <td>0.072142</td>\n",
              "      <td>0.073600</td>\n",
              "    </tr>\n",
              "    <tr>\n",
              "      <th>1160</th>\n",
              "      <td>2019-05-28 16:14:54.200</td>\n",
              "      <td>7.040</td>\n",
              "      <td>0.280</td>\n",
              "      <td>8.360</td>\n",
              "      <td>0.097749</td>\n",
              "      <td>0.094061</td>\n",
              "    </tr>\n",
              "    <tr>\n",
              "      <th>1161</th>\n",
              "      <td>2019-05-28 16:29:54.195</td>\n",
              "      <td>6.987</td>\n",
              "      <td>0.275</td>\n",
              "      <td>8.350</td>\n",
              "      <td>0.143435</td>\n",
              "      <td>0.082282</td>\n",
              "    </tr>\n",
              "  </tbody>\n",
              "</table>\n",
              "<p>1162 rows × 6 columns</p>\n",
              "</div>\n",
              "      <button class=\"colab-df-convert\" onclick=\"convertToInteractive('df-8635ec4e-7269-4678-81f6-d71488d2df0c')\"\n",
              "              title=\"Convert this dataframe to an interactive table.\"\n",
              "              style=\"display:none;\">\n",
              "        \n",
              "  <svg xmlns=\"http://www.w3.org/2000/svg\" height=\"24px\"viewBox=\"0 0 24 24\"\n",
              "       width=\"24px\">\n",
              "    <path d=\"M0 0h24v24H0V0z\" fill=\"none\"/>\n",
              "    <path d=\"M18.56 5.44l.94 2.06.94-2.06 2.06-.94-2.06-.94-.94-2.06-.94 2.06-2.06.94zm-11 1L8.5 8.5l.94-2.06 2.06-.94-2.06-.94L8.5 2.5l-.94 2.06-2.06.94zm10 10l.94 2.06.94-2.06 2.06-.94-2.06-.94-.94-2.06-.94 2.06-2.06.94z\"/><path d=\"M17.41 7.96l-1.37-1.37c-.4-.4-.92-.59-1.43-.59-.52 0-1.04.2-1.43.59L10.3 9.45l-7.72 7.72c-.78.78-.78 2.05 0 2.83L4 21.41c.39.39.9.59 1.41.59.51 0 1.02-.2 1.41-.59l7.78-7.78 2.81-2.81c.8-.78.8-2.07 0-2.86zM5.41 20L4 18.59l7.72-7.72 1.47 1.35L5.41 20z\"/>\n",
              "  </svg>\n",
              "      </button>\n",
              "      \n",
              "  <style>\n",
              "    .colab-df-container {\n",
              "      display:flex;\n",
              "      flex-wrap:wrap;\n",
              "      gap: 12px;\n",
              "    }\n",
              "\n",
              "    .colab-df-convert {\n",
              "      background-color: #E8F0FE;\n",
              "      border: none;\n",
              "      border-radius: 50%;\n",
              "      cursor: pointer;\n",
              "      display: none;\n",
              "      fill: #1967D2;\n",
              "      height: 32px;\n",
              "      padding: 0 0 0 0;\n",
              "      width: 32px;\n",
              "    }\n",
              "\n",
              "    .colab-df-convert:hover {\n",
              "      background-color: #E2EBFA;\n",
              "      box-shadow: 0px 1px 2px rgba(60, 64, 67, 0.3), 0px 1px 3px 1px rgba(60, 64, 67, 0.15);\n",
              "      fill: #174EA6;\n",
              "    }\n",
              "\n",
              "    [theme=dark] .colab-df-convert {\n",
              "      background-color: #3B4455;\n",
              "      fill: #D2E3FC;\n",
              "    }\n",
              "\n",
              "    [theme=dark] .colab-df-convert:hover {\n",
              "      background-color: #434B5C;\n",
              "      box-shadow: 0px 1px 3px 1px rgba(0, 0, 0, 0.15);\n",
              "      filter: drop-shadow(0px 1px 2px rgba(0, 0, 0, 0.3));\n",
              "      fill: #FFFFFF;\n",
              "    }\n",
              "  </style>\n",
              "\n",
              "      <script>\n",
              "        const buttonEl =\n",
              "          document.querySelector('#df-8635ec4e-7269-4678-81f6-d71488d2df0c button.colab-df-convert');\n",
              "        buttonEl.style.display =\n",
              "          google.colab.kernel.accessAllowed ? 'block' : 'none';\n",
              "\n",
              "        async function convertToInteractive(key) {\n",
              "          const element = document.querySelector('#df-8635ec4e-7269-4678-81f6-d71488d2df0c');\n",
              "          const dataTable =\n",
              "            await google.colab.kernel.invokeFunction('convertToInteractive',\n",
              "                                                     [key], {});\n",
              "          if (!dataTable) return;\n",
              "\n",
              "          const docLinkHtml = 'Like what you see? Visit the ' +\n",
              "            '<a target=\"_blank\" href=https://colab.research.google.com/notebooks/data_table.ipynb>data table notebook</a>'\n",
              "            + ' to learn more about interactive tables.';\n",
              "          element.innerHTML = '';\n",
              "          dataTable['output_type'] = 'display_data';\n",
              "          await google.colab.output.renderOutput(dataTable, element);\n",
              "          const docLink = document.createElement('div');\n",
              "          docLink.innerHTML = docLinkHtml;\n",
              "          element.appendChild(docLink);\n",
              "        }\n",
              "      </script>\n",
              "    </div>\n",
              "  </div>\n",
              "  "
            ]
          },
          "metadata": {}
        }
      ]
    },
    {
      "cell_type": "markdown",
      "source": [
        "Let's now visualize the final dataset using the Matplotlib:"
      ],
      "metadata": {
        "id": "0dqilF11eI8N"
      }
    },
    {
      "cell_type": "code",
      "source": [],
      "metadata": {
        "id": "YWDE53DBea8M"
      },
      "execution_count": null,
      "outputs": []
    }
  ]
}